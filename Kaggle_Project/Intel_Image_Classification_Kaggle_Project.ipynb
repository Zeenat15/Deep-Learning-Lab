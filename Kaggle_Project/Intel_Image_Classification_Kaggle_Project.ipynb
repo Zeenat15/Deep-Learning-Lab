{
  "cells": [
    {
      "cell_type": "code",
      "execution_count": null,
      "metadata": {
        "id": "qR85sz-_A6xD"
      },
      "outputs": [],
      "source": [
        "import os\n",
        "\n",
        "import pandas as pd\n",
        "import numpy as np\n",
        "import seaborn as sns\n",
        "import matplotlib.pyplot as plt\n",
        "%matplotlib inline\n",
        "sns.set(style=\"whitegrid\")\n",
        "\n",
        "import glob as gb\n",
        "import cv2\n",
        "import tensorflow as tf\n",
        "import keras\n",
        "from tensorflow.keras.models import Sequential\n",
        "from tensorflow.keras.layers import Conv2D, MaxPool2D, Flatten, Dense, Dropout"
      ]
    },
    {
      "cell_type": "code",
      "execution_count": null,
      "metadata": {
        "colab": {
          "base_uri": "https://localhost:8080/"
        },
        "id": "x2KOEsBgBPs-",
        "outputId": "1523b9e0-4af2-4c2e-d40d-cbeff934abfe"
      },
      "outputs": [
        {
          "output_type": "stream",
          "name": "stdout",
          "text": [
            "Mounted at /content/drive\n"
          ]
        }
      ],
      "source": [
        "# Mount Google Drive if using Google Colab\n",
        "from google.colab import drive\n",
        "drive.mount('/content/drive')"
      ]
    },
    {
      "cell_type": "code",
      "execution_count": null,
      "metadata": {
        "id": "oIe-J09qBcxv"
      },
      "outputs": [],
      "source": [
        "trainpath = '/content/drive/MyDrive/DL Kaggle Project/seg_train/'\n",
        "testpath = '/content/drive/MyDrive/DL Kaggle Project/seg_test/'\n",
        "predpath = '/content/drive/MyDrive/DL Kaggle Project/seg_pred/'"
      ]
    },
    {
      "cell_type": "code",
      "execution_count": null,
      "metadata": {
        "colab": {
          "base_uri": "https://localhost:8080/"
        },
        "id": "iMiRWo-6Bps2",
        "outputId": "c339cd58-fe1e-4ef5-b3de-2504684ec866"
      },
      "outputs": [
        {
          "output_type": "stream",
          "name": "stdout",
          "text": [
            "For training data , found 2276 in folder sea\n",
            "For training data , found 2404 in folder glacier\n",
            "For training data , found 2382 in folder street\n",
            "For training data , found 2201 in folder buildings\n",
            "For training data , found 2271 in folder forest\n",
            "For training data , found 2512 in folder mountain\n"
          ]
        }
      ],
      "source": [
        "for folder in  os.listdir(trainpath + 'seg_train') :\n",
        "    files = gb.glob(pathname= str( trainpath +'seg_train//' + folder + '/*.jpg'))\n",
        "    print(f'For training data , found {len(files)} in folder {folder}')"
      ]
    },
    {
      "cell_type": "code",
      "execution_count": null,
      "metadata": {
        "colab": {
          "base_uri": "https://localhost:8080/"
        },
        "id": "4oqtIQcLCYhT",
        "outputId": "1023a7af-6d52-4917-eb01-07892f1aad23"
      },
      "outputs": [
        {
          "output_type": "stream",
          "name": "stdout",
          "text": [
            "For testing data , found 553 in folder glacier\n",
            "For testing data , found 510 in folder sea\n",
            "For testing data , found 535 in folder mountain\n",
            "For testing data , found 501 in folder street\n",
            "For testing data , found 437 in folder buildings\n",
            "For testing data , found 474 in folder forest\n"
          ]
        }
      ],
      "source": [
        "for folder in  os.listdir(testpath +'seg_test') :\n",
        "    files = gb.glob(pathname= str( testpath +'seg_test//' + folder + '/*.jpg'))\n",
        "    print(f'For testing data , found {len(files)} in folder {folder}')"
      ]
    },
    {
      "cell_type": "code",
      "execution_count": null,
      "metadata": {
        "colab": {
          "base_uri": "https://localhost:8080/"
        },
        "id": "G3fgza-_CbJ1",
        "outputId": "51a88974-c9f5-48d3-bde3-1817dd9fd5f9"
      },
      "outputs": [
        {
          "output_type": "stream",
          "name": "stdout",
          "text": [
            "For Prediction data , found 7301\n"
          ]
        }
      ],
      "source": [
        "files = gb.glob(pathname= str(predpath +'seg_pred/*.jpg'))\n",
        "print(f'For Prediction data , found {len(files)}')"
      ]
    },
    {
      "cell_type": "code",
      "execution_count": null,
      "metadata": {
        "id": "ZPwtuLwTDOe8"
      },
      "outputs": [],
      "source": [
        "code = {'buildings':0 ,'forest':1,'glacier':2,'mountain':3,'sea':4,'street':5}\n",
        "\n",
        "def getcode(n) :\n",
        "    for x , y in code.items() :\n",
        "        if n == y :\n",
        "            return x"
      ]
    },
    {
      "cell_type": "code",
      "execution_count": null,
      "metadata": {
        "colab": {
          "base_uri": "https://localhost:8080/"
        },
        "id": "FQLF8nDhoqxM",
        "outputId": "acc235ac-41ec-4305-c96d-0740ae9cc814"
      },
      "outputs": [
        {
          "output_type": "stream",
          "name": "stdout",
          "text": [
            "{'buildings': 0, 'forest': 1, 'glacier': 2, 'mountain': 3, 'sea': 4, 'street': 5}\n"
          ]
        }
      ],
      "source": [
        "# assign class labels\n",
        "class_names = ['buildings','forest','glacier','mountain','sea','street']\n",
        "class_labels = {class_name:i for i, class_name in enumerate(class_names)}\n",
        "print(class_labels)\n",
        "\n",
        "number_classes = len(class_names)\n",
        "\n",
        "IMAGE_SIZE = (150,150)"
      ]
    },
    {
      "cell_type": "code",
      "source": [
        "size = []\n",
        "for folder in  os.listdir(trainpath +'seg_train') :\n",
        "    files = gb.glob(pathname= str( trainpath +'seg_train//' + folder + '/*.jpg'))\n",
        "    for file in files:\n",
        "        image = plt.imread(file)\n",
        "        size.append(image.shape)\n",
        "pd.Series(size).value_counts()"
      ],
      "metadata": {
        "id": "FqKidj_PFFD4"
      },
      "execution_count": null,
      "outputs": []
    },
    {
      "cell_type": "code",
      "execution_count": null,
      "metadata": {
        "id": "Wil_KadkDWgx"
      },
      "outputs": [],
      "source": [
        "size = []\n",
        "for folder in  os.listdir(testpath +'seg_test') :\n",
        "    files = gb.glob(pathname= str( testpath +'seg_test//' + folder + '/*.jpg'))\n",
        "    for file in files:\n",
        "        image = plt.imread(file)\n",
        "        size.append(image.shape)\n",
        "pd.Series(size).value_counts()"
      ]
    },
    {
      "cell_type": "code",
      "execution_count": null,
      "metadata": {
        "id": "rgZ_tt8tDYzL"
      },
      "outputs": [],
      "source": [
        "size = []\n",
        "files = gb.glob(pathname= str(predpath +'seg_pred/*.jpg'))\n",
        "for file in files:\n",
        "    image = plt.imread(file)\n",
        "    size.append(image.shape)\n",
        "pd.Series(size).value_counts()"
      ]
    },
    {
      "cell_type": "code",
      "execution_count": null,
      "metadata": {
        "id": "EZUVUQLbp-Ue"
      },
      "outputs": [],
      "source": [
        "s = 128"
      ]
    },
    {
      "cell_type": "code",
      "execution_count": null,
      "metadata": {
        "id": "uGJkaQytDoZ3"
      },
      "outputs": [],
      "source": [
        "X_train = []\n",
        "y_train = []\n",
        "for folder in  os.listdir(trainpath +'seg_train') :\n",
        "    files = gb.glob(pathname= str( trainpath +'seg_train//' + folder + '/*.jpg'))\n",
        "    for file in files:\n",
        "        image = cv2.imread(file)\n",
        "        image_array = cv2.resize(image , (s,s))\n",
        "        X_train.append(list(image_array))\n",
        "        y_train.append(code[folder])"
      ]
    },
    {
      "cell_type": "code",
      "execution_count": null,
      "metadata": {
        "id": "PFA2W0XmDqRI"
      },
      "outputs": [],
      "source": [
        "print(f'we have {len(X_train)} items in X_train')"
      ]
    },
    {
      "cell_type": "code",
      "execution_count": null,
      "metadata": {
        "id": "_gqhb_QcDsaj"
      },
      "outputs": [],
      "source": [
        "plt.figure(figsize=(20,20))\n",
        "for n , i in enumerate(list(np.random.randint(0,len(X_train),36))) :\n",
        "    plt.subplot(6,6,n+1)\n",
        "    plt.imshow(X_train[i])\n",
        "    plt.axis('off')\n",
        "    plt.title(getcode(y_train[i]))"
      ]
    },
    {
      "cell_type": "code",
      "execution_count": null,
      "metadata": {
        "id": "c9SebB5RDw-9"
      },
      "outputs": [],
      "source": [
        "X_test = []\n",
        "y_test = []\n",
        "for folder in  os.listdir(testpath +'seg_test') :\n",
        "    files = gb.glob(pathname= str(testpath + 'seg_test//' + folder + '/*.jpg'))\n",
        "    for file in files:\n",
        "        image = cv2.imread(file)\n",
        "        image_array = cv2.resize(image , (s,s))\n",
        "        X_test.append(list(image_array))\n",
        "        y_test.append(code[folder])"
      ]
    },
    {
      "cell_type": "code",
      "execution_count": null,
      "metadata": {
        "id": "h0MevjcdDyv7"
      },
      "outputs": [],
      "source": [
        "print(f'we have {len(X_test)} items in X_test')"
      ]
    },
    {
      "cell_type": "code",
      "execution_count": null,
      "metadata": {
        "id": "80SKuX9pD0Sj"
      },
      "outputs": [],
      "source": [
        "plt.figure(figsize=(20,20))\n",
        "for n , i in enumerate(list(np.random.randint(0,len(X_test),36))) :\n",
        "    plt.subplot(6,6,n+1)\n",
        "    plt.imshow(X_test[i])\n",
        "    plt.axis('off')\n",
        "    plt.title(getcode(y_test[i]))"
      ]
    },
    {
      "cell_type": "code",
      "execution_count": null,
      "metadata": {
        "id": "IboMea9mD2D8"
      },
      "outputs": [],
      "source": [
        "X_pred = []\n",
        "files = gb.glob(pathname= str(predpath + 'seg_pred/*.jpg'))\n",
        "for file in files:\n",
        "    image = cv2.imread(file)\n",
        "    image_array = cv2.resize(image , (s,s))\n",
        "    X_pred.append(list(image_array))"
      ]
    },
    {
      "cell_type": "code",
      "execution_count": null,
      "metadata": {
        "id": "dzqh7i2CD3lK"
      },
      "outputs": [],
      "source": [
        "print(f'we have {len(X_pred)} items in X_pred')"
      ]
    },
    {
      "cell_type": "code",
      "execution_count": null,
      "metadata": {
        "id": "hVfuU-yrD4_D"
      },
      "outputs": [],
      "source": [
        "plt.figure(figsize=(20,20))\n",
        "for n , i in enumerate(list(np.random.randint(0,len(X_pred),36))) :\n",
        "    plt.subplot(6,6,n+1)\n",
        "    plt.imshow(X_pred[i])\n",
        "    plt.axis('off')"
      ]
    },
    {
      "cell_type": "code",
      "execution_count": null,
      "metadata": {
        "id": "TYxuHilPD7zH"
      },
      "outputs": [],
      "source": [
        "X_train = np.array(X_train)\n",
        "X_test = np.array(X_test)\n",
        "X_pred_array = np.array(X_pred)\n",
        "y_train = np.array(y_train)\n",
        "y_test = np.array(y_test)\n",
        "\n",
        "print(f'X_train shape  is {X_train.shape}')\n",
        "print(f'X_test shape  is {X_test.shape}')\n",
        "print(f'X_pred shape  is {X_pred_array.shape}')\n",
        "print(f'y_train shape  is {y_train.shape}')\n",
        "print(f'y_test shape  is {y_test.shape}')"
      ]
    },
    {
      "cell_type": "code",
      "execution_count": null,
      "metadata": {
        "id": "VFidcLfUapJ6"
      },
      "outputs": [],
      "source": [
        "model = Sequential([\n",
        "    Conv2D(200, kernel_size=(3, 3), activation='relu', input_shape=(s, s, 3)),\n",
        "    Conv2D(150, kernel_size=(3, 3), activation='relu'),\n",
        "    MaxPool2D(4, 4),\n",
        "    Conv2D(120, kernel_size=(3, 3), activation='relu'),\n",
        "    Conv2D(80, kernel_size=(3, 3), activation='relu'),\n",
        "    Conv2D(50, kernel_size=(3, 3), activation='relu'),\n",
        "    MaxPool2D(4, 4),\n",
        "    Flatten(),\n",
        "    Dense(120, activation='relu'),\n",
        "    Dense(100, activation='relu'),\n",
        "    Dense(50, activation='relu'),\n",
        "    Dropout(rate=0.2),\n",
        "    Dense(6, activation='softmax')\n",
        "])"
      ]
    },
    {
      "cell_type": "code",
      "execution_count": null,
      "metadata": {
        "id": "6RDwjDLUaxYo"
      },
      "outputs": [],
      "source": [
        "model.compile(optimizer = 'adam', loss = 'sparse_categorical_crossentropy',\n",
        "             metrics = ['accuracy'])"
      ]
    },
    {
      "cell_type": "code",
      "execution_count": null,
      "metadata": {
        "id": "SVYw_gV8az3v"
      },
      "outputs": [],
      "source": [
        "print('Model Details are : ')\n",
        "print(model.summary())"
      ]
    },
    {
      "cell_type": "code",
      "execution_count": null,
      "metadata": {
        "id": "fB3fllj3TjCs"
      },
      "outputs": [],
      "source": [
        "ThisModel = model.fit(X_train, y_train, epochs = 1, batch_size = 256, verbose=1)"
      ]
    },
    {
      "cell_type": "code",
      "execution_count": null,
      "metadata": {
        "id": "RI78VguqTogs"
      },
      "outputs": [],
      "source": [
        "ModelLoss, ModelAccuracy = model.evaluate(X_test, y_test)\n",
        "\n",
        "print('Test Loss is {}'.format(ModelLoss))\n",
        "print('Test Accuracy is {}'.format(ModelAccuracy ))"
      ]
    },
    {
      "cell_type": "code",
      "execution_count": null,
      "metadata": {
        "id": "TBi_TeJDTqu3"
      },
      "outputs": [],
      "source": [
        "y_pred = model.predict(X_test)\n",
        "\n",
        "print('Prediction Shape is {}'.format(y_pred.shape))"
      ]
    },
    {
      "cell_type": "code",
      "execution_count": null,
      "metadata": {
        "id": "pJzYErCRTuLo"
      },
      "outputs": [],
      "source": [
        "y_result = model.predict(X_pred_array)\n",
        "\n",
        "print('Prediction Shape is {}'.format(y_result.shape))"
      ]
    },
    {
      "cell_type": "code",
      "execution_count": null,
      "metadata": {
        "id": "944dpDhWTxX2"
      },
      "outputs": [],
      "source": [
        "plt.figure(figsize=(20,20))\n",
        "for n , i in enumerate(list(np.random.randint(0,len(X_pred),36))) :\n",
        "    plt.subplot(6,6,n+1)\n",
        "    plt.imshow(X_pred[i])\n",
        "    plt.axis('off')\n",
        "    plt.title(getcode(np.argmax(y_result[i])))"
      ]
    }
  ],
  "metadata": {
    "colab": {
      "gpuType": "T4",
      "provenance": []
    },
    "kernelspec": {
      "display_name": "Python 3",
      "name": "python3"
    },
    "language_info": {
      "name": "python"
    }
  },
  "nbformat": 4,
  "nbformat_minor": 0
}